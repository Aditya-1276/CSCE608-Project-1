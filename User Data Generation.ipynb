{
 "cells": [
  {
   "cell_type": "code",
   "execution_count": 1,
   "id": "1985d023",
   "metadata": {},
   "outputs": [],
   "source": [
    "import random\n",
    "import numpy as np\n",
    "import pandas as pd"
   ]
  },
  {
   "cell_type": "markdown",
   "id": "64ff35ee",
   "metadata": {},
   "source": [
    "#### Name Generator"
   ]
  },
  {
   "cell_type": "code",
   "execution_count": 2,
   "id": "9d78d99d",
   "metadata": {},
   "outputs": [],
   "source": [
    "first_names=('James', 'Robert' 'John' 'Michael', 'David','William',' Richard','Joseph','Thomas','Christopher','Charles','Daniel','Matthew','Anthony','Mark','Donald','Steven','Andrew','Paul','Joshua','Kenneth','Kevin','Brian','George','Timothy','Ronald','Jason','Edward','Jeffrey','Ryan','Jacob','Gary','Nicholas','Eric','Jonathan','Stephen','Larry','Justin','Scott','Brandon','Benjamin','Samuel','Gregory','Alexander','Patric','Frank','Raymond','Jack','Dennis','Jerry','Tyler','Aaron','Jose','Adam','Nathan','Henry','Zachary','Douglas','Peter','Kyle','Noah','Ethan','Jeremy','Walter','Christian','Keith','Roger','Terry','Austin','Sean','Gerald','Carl','Harold','Dylan','Arthur','Lawrance','Jordan','Jesse','Bryan','Billy','Mary','Patricia','Jennifer','Linda','Elizabeth','Barbara','Susan','Jessica','Sarah','Karen','Lisa','Nancy','Betty','Sandra','Margret','Ashley','Kimberly','Emily','Donna','Michelle','Carol','Amanda','Melissa','Deborah','Stephanie','Dorothy','Rebecca','Sharon','Laura','Cynthia','Amy','Kathleen','Angela','Shirley','Brenda','Emma','Anna','Pamela','Nicole','Samantha','Katherine','Christine','Helen','Debra','Rachel','Carolyn','Janet','Maria','Catherine','Heather','Diane','Olivia','Julie','Joyce','Victoria','Ruth','Virginia','Lauren','Kelly','Christina','Joan','Evylyn','Judith','Andrea','Hannah','Megan','Cheryl','Jacquelin','Martha','Madison','Teresa','Gloria','Sara','Janice','Ann','Kathryn','Abigail','Sophia','Francis','Jean')\n",
    "last_names=('Johnson','Smith','Williams','Brown','Jones','Garcia','Miller','Davis','Rodriguez','Martinez','Hernandez','Lopez','Wilson','Anderson','Thomas','Taylor','Moore','Jackson','Martin','Lee','Perez','Thompson','White','Harris','Sanchez','Clark','Ramirez','Lewis','Robinson','Walker','Young','Allen','King','Wright','Scott','Torres','Nguyen','Hill','Flores','Green','Adams','Nelson','Baker','Hall','Rivera','Campbell','Mitchell','Carter','Roberts','Gomez','Phillips','Evans','Turner','Diaz','Parker','Cruz','Edwards','Collins','Reyes')"
   ]
  },
  {
   "cell_type": "code",
   "execution_count": 62,
   "id": "3f4c2d81",
   "metadata": {},
   "outputs": [],
   "source": [
    "First = []\n",
    "\n",
    "for i in range(1110):\n",
    "    First.append(random.choice(first_names))\n"
   ]
  },
  {
   "cell_type": "code",
   "execution_count": 63,
   "id": "0778cefe",
   "metadata": {},
   "outputs": [],
   "source": [
    "Last = []\n",
    "\n",
    "for i in range(1110):\n",
    "    Last.append(random.choice(last_names))"
   ]
  },
  {
   "cell_type": "markdown",
   "id": "8df9aa49",
   "metadata": {},
   "source": [
    "full_name=random.choice(first_names)+\" \"+random.choice(last_names)"
   ]
  },
  {
   "cell_type": "markdown",
   "id": "4c8f3f29",
   "metadata": {},
   "source": [
    "#### Date Generator"
   ]
  },
  {
   "cell_type": "code",
   "execution_count": 10,
   "id": "9bfb7c05",
   "metadata": {},
   "outputs": [
    {
     "name": "stdout",
     "output_type": "stream",
     "text": [
      "[23, 2, 19, 28, 17, 11, 3, 2, 18, 13, 15, 1, 7, 13, 14, 24, 16, 10, 28, 12, 4, 22, 5, 17, 29, 30, 20, 11, 17, 9, 11, 25, 23, 9, 18, 6, 28, 14, 4, 11, 23, 14, 17, 29, 21, 18, 22, 27, 14, 20, 8, 9, 15, 30, 28, 23, 19, 19, 1, 25, 26, 13, 13, 28, 30, 26, 7, 30, 16, 22, 27, 21, 26, 1, 19, 12, 21, 18, 15, 5, 10, 17, 4, 2, 26, 12, 5, 3, 8, 23, 24, 3, 11, 9, 14, 2, 29, 27, 9, 18, 24, 11, 15, 6, 19, 28, 11, 28, 22, 20, 6, 19, 5, 4, 11, 11, 28, 9, 26, 11, 11, 20, 17, 30, 27, 10, 1, 19, 5, 28, 25, 8, 26, 18, 14, 28, 5, 2, 21, 26, 1, 23, 16, 2, 15, 11, 28, 15, 10, 17, 23, 7, 19, 26, 6, 16, 4, 11, 23, 21, 27, 21, 19, 13, 12, 25, 10, 18, 12, 11, 17, 20, 2, 20, 24, 6, 21, 24, 24, 17, 17, 20, 25, 24, 21, 30, 17, 16, 21, 21, 4, 12, 8, 30, 30, 5, 28, 19, 11, 4, 27, 4, 9, 30, 19, 2, 4, 10, 22, 24, 24, 2, 4, 30, 8, 13, 8, 13, 18, 3, 20, 2, 4, 27, 29, 25, 15, 28, 27, 12, 3, 23, 11, 2, 11, 30, 16, 12, 20, 5, 4, 6, 25, 18, 17, 24, 13, 30, 12, 17, 5, 29, 9, 14, 3, 5, 23, 15, 14, 4, 9, 16, 5, 6, 23, 5, 7, 24, 20, 20, 15, 27, 7, 7, 30, 27, 23, 8, 12, 22, 5, 23, 23, 28, 5, 6, 4, 9, 27, 16, 30, 12, 2, 7, 26, 1, 11, 3, 12, 25, 15, 18, 28, 3, 27, 14, 5, 15, 4, 27, 22, 21, 19, 30, 24, 24, 18, 22, 7, 13, 10, 17, 13, 27, 5, 24, 15, 9, 25, 28, 21, 3, 28, 18, 7, 5, 27, 4, 26, 8, 25, 29, 14, 13, 12, 11, 15, 4, 17, 27, 5, 19, 16, 14, 18, 22, 7, 6, 16, 12, 19, 17, 10, 27, 26, 2, 18, 28, 18, 5, 5, 25, 4, 10, 4, 22, 11, 17, 14, 30, 26, 11, 25, 4, 11, 7, 7, 18, 29, 15, 29, 5, 7, 20, 12, 22, 1, 25, 18, 16, 5, 25, 29, 3, 22, 20, 23, 15, 20, 3, 19, 30, 10, 27, 30, 14, 14, 25, 22, 15, 9, 13, 22, 19, 10, 26, 25, 8, 6, 20, 10, 10, 2, 12, 17, 30, 8, 23, 23, 17, 1, 6, 13, 8, 18, 3, 10, 28, 2, 19, 2, 22, 26, 13, 17, 15, 18, 26, 29, 3, 2, 7, 5, 27, 30, 21, 10, 30, 30, 6, 27, 4, 24, 23, 5, 13, 7, 4, 14, 24, 22, 16, 23, 11, 20, 27, 22, 15, 14, 8, 6, 2, 24, 15, 12, 7, 14, 12, 26, 3, 8, 3, 7, 13, 18, 16, 15, 29, 5, 1, 4, 26, 5, 7, 7, 18, 26, 19, 3, 3, 14, 11, 28, 1, 14, 10, 12, 23, 11, 26, 27, 30, 6, 25, 28, 21, 11, 18, 23, 17, 30, 8, 5, 24, 22, 21, 21, 14, 6, 6, 6, 12, 7, 10, 29, 21, 22, 26, 29, 27, 4, 30, 26, 24, 9, 4, 21, 29, 15, 27, 11, 21, 10, 19, 16, 4, 12, 16, 6, 15, 24, 9, 5, 6, 13, 17, 6, 21, 9, 11, 1, 26, 3, 5, 9, 18, 10, 19, 16, 13, 14, 1, 10, 24, 11, 30, 17, 18, 16, 5, 11, 13, 15, 29, 29, 17, 8, 23, 25, 25, 29, 13, 17, 6, 20, 12, 8, 20, 28, 16, 21, 11, 25, 3, 25, 26, 26, 30, 28, 18, 15, 13, 6, 12, 2, 5, 12, 12, 8, 23, 21, 23, 23, 21, 27, 4, 7, 22, 6, 7, 4, 11, 20, 20, 15, 20, 6, 9, 16, 20, 18, 12, 19, 24, 25, 27, 4, 27, 28, 5, 10, 5, 21, 1, 7, 16, 24, 5, 1, 22, 27, 19, 27, 11, 11, 30, 29, 24, 3, 3, 4, 23, 10, 22, 21, 23, 13, 12, 2, 17, 19, 1, 3, 25, 10, 5, 13, 30, 22, 1, 13, 22, 4, 28, 27, 7, 15, 22, 18, 26, 18, 3, 4, 24, 30, 1, 25, 14, 15, 6, 29, 6, 24, 18, 5, 2, 14, 13, 22, 12, 17, 18, 3, 10, 18, 2, 19, 9, 22, 26, 28, 9, 10, 2, 1, 27, 26, 26, 30, 27, 6, 25, 29, 5, 28, 26, 2, 8, 30, 6, 8, 30, 30, 1, 6, 24, 23, 17, 3, 21, 20, 23, 1, 27, 5, 27, 29, 20, 9, 5, 14, 16, 13, 24, 25, 15, 8, 7, 23, 2, 27, 5, 3, 19, 22, 6, 22, 2, 28, 21, 20, 23, 25, 6, 10, 2, 9, 17, 12, 3, 11, 9, 29, 5, 24, 26, 28, 22, 19, 16, 1, 11, 14, 4, 20, 28, 1, 4, 23, 8, 19, 4, 24, 25, 14, 24, 11, 3, 27, 5, 26, 6, 1, 4, 29, 25, 19, 14, 8, 24, 20, 7, 21, 5, 24, 19, 26, 4, 30, 5, 28, 16, 23, 2, 14, 19, 21, 26, 16, 20, 26, 30, 6, 5, 4, 12, 4, 14, 13, 29, 14, 30, 12, 16, 20, 7, 1, 14, 30, 30, 11, 16, 1, 29, 5, 21, 18, 23, 14, 8, 4, 10, 20, 30, 9, 20, 4, 14, 10, 27, 14, 3, 22, 26, 18, 18, 12, 30, 7, 25, 21, 12, 17, 28, 13, 6, 28, 27, 18, 25, 14, 6, 4, 6, 8, 19, 22, 11, 10, 16, 14, 9, 20, 4, 15, 10, 23, 4, 3, 21, 27, 17, 18, 2, 24, 4, 8, 30, 7, 25, 12, 11, 8, 2, 17, 11, 13, 29, 5, 1, 29, 17, 24, 7, 10, 16, 4, 23, 27, 16]\n"
     ]
    }
   ],
   "source": [
    "random_days=[]\n",
    "\n",
    "for i in range(1000):\n",
    "    random_days.append(random.randint(1,30))\n",
    "    \n",
    "print(random_days)"
   ]
  },
  {
   "cell_type": "code",
   "execution_count": 27,
   "id": "ffcf3947",
   "metadata": {},
   "outputs": [],
   "source": [
    "days = map(str, list(range(1,32)))\n",
    "days = (list(days))"
   ]
  },
  {
   "cell_type": "code",
   "execution_count": 33,
   "id": "9917de22",
   "metadata": {},
   "outputs": [],
   "source": [
    "months = map(str, list(range(1,12)))\n",
    "months = list(months)\n",
    "years = map(str, list(range(1995, 2010)))\n",
    "years = list(years)"
   ]
  },
  {
   "cell_type": "code",
   "execution_count": 40,
   "id": "95cd2d3a",
   "metadata": {},
   "outputs": [],
   "source": [
    "date = (random.choice(years)+\"-\"+random.choice(months)+\"-\"+random.choice(days))"
   ]
  },
  {
   "cell_type": "code",
   "execution_count": 64,
   "id": "c072c49d",
   "metadata": {},
   "outputs": [
    {
     "name": "stdout",
     "output_type": "stream",
     "text": [
      "['2002-9-8', '2009-4-8', '2007-10-26', '2006-6-25', '1995-5-18', '1996-6-15', '2009-7-23', '2001-1-8', '2006-4-5', '2001-9-20', '1999-3-1', '1996-11-15', '2000-1-30', '2002-3-4', '2002-4-12', '2003-3-23', '2001-2-27', '1996-7-31', '2007-3-12', '2000-8-8', '2002-10-5', '2009-4-4', '2009-4-9', '2006-4-12', '1998-2-31', '2001-3-30', '1996-8-30', '1998-9-1', '2003-8-8', '2005-2-7', '2009-5-12', '2006-11-8', '2009-10-20', '2006-11-2', '2005-9-26', '2003-2-28', '1997-2-4', '2001-10-31', '2000-5-24', '1998-8-2', '2004-3-12', '1995-8-26', '2003-1-17', '1995-2-11', '2009-7-30', '1998-2-31', '2003-2-9', '1999-6-31', '2008-2-21', '2001-6-20', '2008-11-14', '2003-1-1', '2001-9-2', '1997-3-4', '2002-3-13', '1998-7-30', '1997-2-11', '1996-8-28', '1998-1-11', '2006-4-4', '1996-11-5', '2002-2-13', '1999-8-31', '1997-10-18', '1998-3-2', '2007-5-19', '2009-5-14', '1999-11-31', '2004-3-30', '2001-3-21', '2002-2-31', '2004-10-20', '2000-4-5', '2009-7-2', '2008-2-26', '1997-5-9', '2001-4-17', '1999-5-15', '1998-6-5', '2004-7-17', '2003-1-28', '1999-9-2', '1995-4-7', '2007-2-13', '1998-8-19', '2007-10-30', '2005-5-19', '2009-2-21', '2007-10-30', '2007-8-14', '1998-10-19', '2002-3-17', '2000-9-26', '1997-9-1', '2002-6-6', '1998-11-12', '2008-1-18', '2001-1-9', '1999-4-25', '2006-3-20', '2001-11-16', '1995-8-27', '1998-1-22', '1999-4-29', '2001-4-17', '2008-2-27', '1995-10-30', '2006-5-11', '2004-7-30', '2000-2-8', '2008-4-8', '1997-11-30', '2001-6-19', '1999-10-24', '1998-3-11', '1995-1-24', '1995-9-23', '2005-6-28', '2000-3-23', '1997-2-5', '2004-5-5', '2004-7-7', '2003-9-20', '2005-3-1', '2002-1-21', '1997-10-30', '2000-4-4', '2004-3-10', '2006-11-13', '1999-3-2', '2006-9-3', '1996-2-24', '2008-1-5', '1997-11-4', '1996-6-5', '1996-8-15', '2007-10-17', '2008-4-12', '2008-5-29', '2000-7-27', '2009-8-22', '1999-1-17', '2007-6-15', '1995-1-23', '2005-7-21', '2005-5-21', '2005-6-6', '2002-11-6', '2001-10-27', '2002-7-4', '2008-8-12', '2001-6-23', '2002-3-17', '2007-1-22', '2009-9-22', '2009-7-17', '2007-3-24', '2004-11-14', '2000-10-16', '2003-4-16', '2002-10-4', '2006-9-1', '2005-4-15', '2004-11-3', '2009-1-2', '1995-8-2', '1996-11-16', '2000-11-27', '1996-2-13', '2006-8-15', '1995-5-20', '2006-3-23', '2000-4-19', '1997-1-18', '1997-8-2', '1999-11-30', '1996-11-14', '2008-8-1', '2008-4-2', '2001-8-11', '1998-3-4', '1998-10-26', '2000-6-20', '2000-11-24', '2002-10-8', '2002-9-5', '1996-10-12', '2002-4-19', '2007-1-9', '1996-3-4', '2001-9-19', '2009-2-12', '2002-3-4', '1998-2-12', '1995-3-7', '2008-10-24', '1996-1-3', '1998-2-29', '2003-4-6', '2002-9-8', '2008-4-13', '2005-8-23', '2003-4-25', '2002-3-25', '1999-2-9', '2009-8-6', '1997-4-5', '1998-7-21', '2002-1-5', '1998-2-29', '2009-1-3', '2001-10-4', '1995-1-12', '2002-3-21', '2001-7-5', '2009-2-23', '2008-8-4', '1998-3-20', '1999-5-11', '2004-9-10', '2004-8-27', '2004-2-26', '2002-10-26', '2007-6-26', '2008-11-9', '2005-2-7', '2005-3-23', '1995-7-8', '2001-7-15', '1998-4-20', '2009-9-15', '2005-1-23', '1999-3-22', '2003-4-27', '1999-10-12', '1995-2-17', '2002-4-9', '2006-8-13', '2006-11-27', '2006-9-11', '2004-4-14', '2005-3-19', '2003-7-17', '2002-11-8', '1997-8-21', '2001-5-8', '2006-5-9', '1998-7-13', '2008-8-13', '1997-11-26', '2006-3-17', '1997-9-29', '1999-5-17', '1998-1-21', '2000-6-30', '2007-8-1', '2003-8-26', '1997-5-27', '2003-2-16', '2002-2-7', '2004-9-10', '2000-9-1', '2008-10-20', '2001-9-1', '1995-9-19', '1999-7-24', '1996-6-3', '1999-3-20', '2003-7-5', '2003-6-22', '2000-10-1', '2005-8-19', '2008-9-21', '1998-6-11', '1997-1-26', '1999-9-20', '2001-4-29', '1997-5-26', '2009-4-29', '2007-6-7', '2008-11-16', '2008-2-14', '2003-9-4', '1996-11-9', '1995-7-15', '2005-6-7', '2004-11-2', '2002-1-28', '2009-1-15', '2006-5-14', '2002-4-25', '2002-11-15', '1997-1-28', '1998-11-6', '2008-5-9', '2007-11-28', '1995-9-29', '2006-4-15', '2000-2-3', '2000-4-15', '1998-3-9', '2008-4-10', '2005-3-18', '2006-9-1', '1999-1-21', '1995-9-14', '2001-9-8', '2001-4-31', '2003-10-5', '2002-9-4', '2004-7-31', '2001-5-14', '2006-8-8', '1995-9-14', '2002-1-2', '2001-2-20', '2005-6-31', '1997-5-31', '1996-10-6', '1998-7-7', '2008-5-21', '1998-9-2', '2002-7-20', '2008-11-25', '2001-10-29', '1999-6-27', '2001-6-4', '1999-1-19', '2005-5-26', '2005-4-19', '2002-2-27', '2006-2-18', '2001-4-31', '2005-10-2', '2007-4-7', '1996-10-9', '2002-3-26', '1995-5-28', '2004-6-11', '1997-4-8', '1999-8-16', '1999-1-12', '2003-9-5', '1995-8-26', '1995-4-19', '1996-1-15', '2001-11-7', '2006-7-30', '2008-5-23', '2003-2-15', '1996-3-22', '2009-9-21', '2000-9-7', '2002-10-22', '2007-11-12', '2008-11-25', '2009-5-12', '1995-8-20', '1996-10-4', '2004-6-24', '2008-3-25', '1995-7-10', '1999-10-21', '2002-11-10', '2006-3-17', '2007-3-30', '2005-4-29', '1998-3-13', '1997-10-26', '2002-2-19', '2005-1-22', '2007-9-16', '2000-5-30', '1998-5-25', '2002-3-21', '1998-7-24', '2009-5-12', '2004-3-1', '2004-4-17', '1998-5-20', '1996-5-13', '2002-4-25', '1997-8-5', '2008-9-12', '1995-5-13', '2002-1-27', '1997-4-29', '2004-2-15', '2009-2-1', '1997-6-1', '2007-2-19', '2001-6-4', '2008-2-5', '2008-9-12', '2000-9-22', '2006-1-2', '2005-3-8', '2002-10-6', '2001-9-23', '2006-1-27', '2000-5-20', '2002-6-18', '1999-11-28', '2000-2-11', '2007-2-5', '2000-3-10', '2007-7-14', '2007-11-26', '1997-1-31', '1999-4-29', '1997-5-20', '2004-3-17', '2002-11-21', '2008-11-3', '2003-8-9', '2008-4-22', '2000-1-1', '1997-3-19', '2003-8-30', '2005-6-5', '2004-4-30', '2007-2-5', '2005-1-12', '2008-2-17', '2004-6-11', '1998-6-12', '2008-9-10', '2003-8-30', '2007-3-19', '1998-2-28', '2004-4-31', '2003-6-6', '2007-10-17', '2003-10-5', '1997-11-21', '2005-9-13', '2005-6-23', '1997-11-17', '2000-2-30', '2008-1-30', '2007-1-24', '1997-3-20', '2009-6-2', '2006-5-10', '1999-1-20', '2006-8-19', '2000-1-3', '2003-11-20', '2004-8-3', '2005-5-8', '1995-10-16', '2002-2-7', '1996-7-13', '1998-7-2', '2008-7-8', '1997-8-6', '1999-10-13', '1996-5-21', '2007-3-6', '2005-3-23', '1996-6-22', '1996-10-29', '2009-8-22', '1995-2-22', '1995-9-18', '2008-7-26', '2006-3-12', '1998-2-8', '2007-11-22', '1996-8-5', '1999-7-18', '2001-6-12', '2000-6-22', '2003-5-18', '1999-1-24', '1997-1-31', '2000-3-19', '1996-7-24', '1995-3-9', '1996-5-8', '2003-2-19', '2002-11-3', '1998-2-17', '2002-1-26', '2005-1-18', '2003-1-25', '1998-8-16', '1997-2-25', '2002-5-5', '1999-3-31', '2005-10-14', '2009-5-8', '1995-5-23', '1998-11-9', '2004-8-30', '1999-2-12', '1999-9-15', '1995-5-30', '1999-8-8', '1995-11-16', '2000-10-19', '2008-11-17', '2002-10-31', '1996-10-20', '1997-7-14', '2005-7-5', '1995-2-5', '1999-6-14', '2004-8-23', '1998-4-20', '2005-4-26', '2004-4-15', '2000-5-31', '2007-8-1', '1996-11-10', '2002-10-1', '1998-9-19', '2007-2-8', '2009-8-4', '1997-2-13', '1996-2-22', '2003-8-17', '2009-8-24', '2005-7-15', '2006-8-17', '2002-11-12', '1996-10-26', '1996-4-16', '2008-2-2', '2006-5-12', '2002-5-21', '1999-1-30', '2009-7-21', '2009-6-18', '2003-6-22', '1997-3-26', '2005-4-14', '2000-2-27', '1998-2-22', '2003-4-12', '2006-7-3', '2007-1-24', '2005-7-18', '2000-2-8', '1997-10-18', '1997-8-6', '2002-1-16', '2006-9-11', '1998-4-5', '2005-8-1', '1995-6-20', '1995-4-29', '2009-9-29', '2005-6-19', '1996-4-3', '2009-5-23', '2003-10-27', '2001-7-8', '2007-11-31', '2003-11-22', '2000-7-20', '1997-1-10', '1996-4-15', '1995-11-11', '2002-1-7', '2006-4-11', '2006-6-29', '2002-8-1', '2008-5-28', '2002-11-7', '2000-4-11', '2002-6-15', '2006-1-7', '1997-3-20', '2006-5-11', '1995-11-30', '1996-5-2', '2002-5-3', '2001-9-26', '1995-8-15', '2002-5-9', '2009-2-18', '2007-4-5', '2000-3-12', '2007-9-15', '2009-2-5', '2007-6-20', '1998-11-1', '2001-4-14', '1997-1-18', '2004-10-6', '2008-8-11', '2003-10-2', '1997-1-26', '2007-7-9', '1996-5-9', '2003-8-26', '1995-4-22', '2009-9-11', '2001-11-19', '1995-6-19', '2008-7-7', '2005-3-19', '2006-4-31', '1998-6-8', '2007-9-14', '2007-8-31', '2009-1-14', '1998-11-23', '2005-10-17', '1997-2-6', '2003-4-20', '2007-11-1', '2001-8-20', '1998-5-27', '1997-7-19', '2008-11-29', '2006-8-15', '2001-5-4', '2002-8-14', '1995-7-26', '2001-7-2', '2005-8-24', '2008-7-11', '2004-8-28', '2007-11-4', '2003-10-5', '1999-5-9', '1997-1-21', '1999-1-24', '2002-8-16', '2001-3-18', '2002-6-20', '2009-10-14', '1997-4-18', '1997-1-23', '2005-3-28', '1999-11-22', '1999-3-18', '2004-6-26', '2004-11-31', '1997-1-6', '2008-9-7', '2006-4-11', '2001-1-30', '2002-11-3', '2004-3-5', '2003-4-31', '1999-7-28', '2002-6-18', '2009-11-8', '2004-10-18', '2003-7-5', '1995-11-11', '1995-5-16', '2002-6-3', '2003-1-18', '2003-3-2', '2000-11-3', '2005-2-8', '1997-6-29', '1997-11-12', '2008-5-23', '1997-9-27', '2008-8-15', '2002-3-25', '2008-4-2', '2007-11-22', '1998-2-17', '2004-8-14', '2002-9-27', '2004-4-9', '2008-8-30', '2003-6-21', '1998-1-14', '2007-9-10', '1995-5-31', '2006-5-23', '1995-11-4', '1995-2-3', '2005-4-13', '2009-4-27', '2004-8-21', '1997-1-12', '2002-2-13', '1997-3-16', '2002-10-19', '2006-1-19', '1998-6-20', '1996-6-11', '1996-3-21', '2002-4-5', '2008-8-18', '1996-10-21', '2001-8-20', '2009-6-29', '2009-7-29', '1997-2-13', '1995-1-29', '2007-11-31', '2002-7-28', '2001-1-3', '2000-6-5', '2001-7-2', '2003-10-27', '2004-2-4', '1995-7-30', '1997-6-19', '2008-5-8', '2003-3-8', '2005-3-17', '2007-7-28', '2002-7-13', '1999-6-30', '1998-4-14', '2009-7-13', '1998-7-17', '2003-8-16', '1999-10-4', '2003-2-10', '2009-10-18', '1995-8-10', '2003-9-23', '1999-8-18', '2001-8-21', '2004-3-1', '1997-2-30', '2007-3-13', '1996-10-17', '2005-2-8', '1999-4-21', '2003-6-19', '2003-3-4', '2000-3-29', '2009-10-23', '1996-11-2', '2007-7-8', '2006-8-3', '1997-10-13', '2007-9-2', '1995-7-27', '1996-3-22', '2006-10-26', '1998-4-24', '1997-4-26', '2004-5-14', '2001-2-8', '2007-5-11', '1998-5-20', '2008-3-14', '1997-8-22', '2006-3-10', '2006-6-10', '1995-11-15', '1998-8-1', '2008-5-18', '2006-11-12', '2005-4-9', '1995-6-5', '2002-5-21', '2008-10-7', '1999-9-12', '1999-11-20', '2008-10-4', '2000-2-2', '2007-7-10', '2001-5-5', '1997-9-15', '2004-3-4', '2009-3-24', '2003-5-27', '1996-7-29', '2003-5-2', '2002-8-6', '2003-3-21', '2000-8-26', '2001-7-28', '2009-4-29', '2004-10-15', '1996-6-22', '2005-10-10', '1997-4-3', '1996-8-7', '2008-4-5', '1997-11-17', '1999-2-27', '2002-9-2', '1995-8-2', '2007-6-12', '1997-5-27', '2006-10-4', '2002-5-30', '2005-5-21', '1997-5-7', '1997-3-13', '2000-6-11', '2002-2-11', '2003-7-30', '2001-3-10', '2006-7-29', '2001-11-13', '1998-7-15', '2008-10-23', '1998-6-24', '2003-8-5', '2007-11-21', '1999-2-7', '1998-11-11', '2001-6-9', '2009-10-31', '2008-8-2', '2009-6-3', '1998-2-20', '2005-10-18', '1996-7-7', '1996-2-28', '2005-10-5', '1998-1-4', '1997-11-10', '2008-6-16', '2000-2-20', '2006-1-21', '2000-5-12', '2003-6-7', '2004-5-29', '2003-5-29', '2003-10-19', '2007-4-5', '1998-1-20', '2007-8-8', '2006-2-12', '1999-4-24', '2007-10-10', '1997-11-29', '2007-4-1', '2006-2-28', '2008-9-13', '2005-7-26', '1998-5-22', '1995-10-1', '1996-1-9', '2002-7-2', '2005-4-3', '2009-10-19', '1996-3-6', '2001-7-12', '2002-5-12', '1995-5-27', '2001-4-7', '2005-2-11', '2008-9-24', '2002-3-24', '2000-9-3', '1998-3-14', '2000-1-4', '2000-10-8', '2007-8-3', '1999-4-21', '1998-11-19', '2003-11-3', '2005-8-10', '1995-5-30', '2001-2-24', '2004-3-3', '2008-10-29', '1996-9-8', '2007-10-29', '1998-9-20', '2005-10-29', '1999-7-1', '1996-11-20', '1998-2-18', '2001-4-7', '2007-9-26', '1996-3-20', '2009-4-9', '2003-7-20', '2005-11-28', '2001-2-20', '2001-9-21', '2004-8-5', '2005-5-6', '2009-9-16', '2001-3-15', '2006-10-29', '1996-1-30', '2003-6-3', '2009-6-29', '2000-6-26', '2009-2-20', '2001-6-22', '1998-9-15', '2004-9-23', '2004-9-19', '1996-2-17', '2005-11-31', '2009-7-13', '2000-11-21', '1997-9-25', '1997-11-13', '2000-8-22', '2002-9-12', '1996-7-23', '1998-6-12', '1996-11-12', '2008-4-30', '1998-2-19', '1998-6-2', '1999-10-28', '2001-3-10', '1998-9-7', '1999-5-23', '2005-4-3', '2001-3-31', '1999-4-17', '1997-3-8', '2009-1-15', '1995-2-7', '2000-9-21', '2004-6-4', '2009-1-8', '2002-2-2', '1996-8-8', '2000-4-23', '2003-9-18', '2006-2-24', '1997-6-8', '2001-8-30', '1997-9-10', '2003-2-24', '2006-8-17', '2001-2-10', '2001-9-6', '1997-7-12', '2000-7-29', '1999-6-13', '2006-6-21', '1999-11-17', '1999-8-6', '2006-4-20', '1999-4-5', '1999-9-31', '2006-4-22', '2005-3-23', '1998-3-17', '2001-10-27', '1995-10-14', '2004-3-22', '1998-11-27', '2005-1-4', '2002-5-10', '1998-4-26', '2008-1-20', '2006-7-12', '2000-1-9', '2009-3-4', '2006-1-12', '2005-2-31', '2001-9-6', '1999-3-28', '2008-4-26', '2000-11-20', '2004-10-23', '2005-10-11', '1995-4-23', '2004-9-26', '2009-6-22', '1998-7-4', '1996-9-5', '2008-2-20', '1999-6-31', '2007-11-23', '2004-6-19', '2003-7-24', '2003-11-5', '2008-2-4', '2006-8-19', '2006-10-15', '2009-6-15', '2004-6-7', '2007-7-4', '1997-10-23', '2001-7-4', '2002-11-19', '1995-8-27', '1996-11-7', '2005-1-31', '2006-6-8', '2008-9-17', '2006-4-15', '2009-8-31', '1998-8-15', '1996-10-18', '1995-2-11', '1998-11-8', '2007-8-14', '1995-10-8', '2009-9-11', '2004-6-6', '2007-2-26', '2000-9-20', '2008-10-23', '2007-5-15', '2000-3-24', '1998-8-15', '2006-5-22', '2000-3-4', '2004-7-7', '1999-8-14', '1996-6-28', '2003-1-25', '1999-8-28', '2005-1-1', '2009-1-14', '1996-2-22', '2006-8-14', '1996-2-3', '1999-1-2', '1996-3-24', '2001-8-6', '2008-11-19', '2002-11-9', '2008-6-6', '1997-1-28', '2009-5-30', '2002-4-21', '2009-5-23', '1997-5-17', '1997-1-16', '2001-7-22', '2007-3-15', '2003-4-22', '1998-2-28', '1999-9-11', '2004-3-10', '2005-9-13', '2005-8-9', '2006-6-20', '2008-10-5', '2003-2-19', '2002-11-15', '2002-10-7', '1998-3-31', '2000-6-21', '1999-8-6', '2007-3-26', '2009-1-29', '2003-2-20', '2000-8-14', '2007-11-21', '2009-5-31', '2003-3-4', '2007-11-27', '2000-5-21', '1995-3-11', '1995-8-21', '2003-5-12', '2006-5-21', '2001-9-2', '2001-2-18', '2005-8-14', '1999-4-11', '2003-4-18', '2004-1-1', '2004-6-8', '2004-5-17', '1997-5-10', '1999-8-10', '2007-9-29', '1998-11-4', '2004-5-5', '2009-8-26', '2007-2-2', '2002-5-1', '1996-9-6', '2005-7-10', '2009-10-30', '2003-2-18', '2000-4-8', '2003-8-17', '1998-1-7', '2008-1-19', '2003-5-19', '1999-2-29', '2001-3-18', '2001-3-5', '2009-2-9', '1998-3-2', '2002-4-10', '2004-11-6', '2006-9-23', '2002-8-23', '2001-3-7', '2007-5-12', '1997-6-14', '2002-8-31', '1996-11-19', '1997-11-26', '1998-7-14', '2000-10-7', '2009-9-13', '1995-11-23', '2006-3-30', '2004-5-2', '1999-7-31', '1999-7-27', '2006-6-23', '2003-9-22', '2005-8-5', '2004-10-4']\n"
     ]
    }
   ],
   "source": [
    "random_dates=[]\n",
    "\n",
    "for i in range(1110):\n",
    "    random_dates.append(random.choice(years)+\"-\"+random.choice(months)+\"-\"+random.choice(days))\n",
    "    \n",
    "print(random_dates)"
   ]
  },
  {
   "cell_type": "markdown",
   "id": "1355db65",
   "metadata": {},
   "source": [
    "#### User Status"
   ]
  },
  {
   "cell_type": "code",
   "execution_count": 48,
   "id": "1a8e85b3",
   "metadata": {},
   "outputs": [],
   "source": [
    "statusi = ['Active', 'Terminated', 'Blocked']"
   ]
  },
  {
   "cell_type": "code",
   "execution_count": 66,
   "id": "9dfc6211",
   "metadata": {},
   "outputs": [
    {
     "name": "stdout",
     "output_type": "stream",
     "text": [
      "['Terminated', 'Active', 'Blocked', 'Active', 'Active', 'Blocked', 'Active', 'Terminated', 'Active', 'Active', 'Terminated', 'Terminated', 'Blocked', 'Terminated', 'Blocked', 'Blocked', 'Terminated', 'Active', 'Blocked', 'Terminated', 'Terminated', 'Terminated', 'Active', 'Terminated', 'Blocked', 'Terminated', 'Blocked', 'Blocked', 'Active', 'Active', 'Active', 'Terminated', 'Blocked', 'Terminated', 'Terminated', 'Blocked', 'Terminated', 'Active', 'Terminated', 'Active', 'Active', 'Terminated', 'Active', 'Terminated', 'Active', 'Active', 'Terminated', 'Blocked', 'Blocked', 'Active', 'Blocked', 'Blocked', 'Terminated', 'Active', 'Blocked', 'Blocked', 'Terminated', 'Active', 'Blocked', 'Blocked', 'Active', 'Active', 'Blocked', 'Active', 'Blocked', 'Blocked', 'Terminated', 'Active', 'Active', 'Terminated', 'Blocked', 'Terminated', 'Terminated', 'Blocked', 'Active', 'Blocked', 'Active', 'Blocked', 'Active', 'Terminated', 'Terminated', 'Blocked', 'Blocked', 'Blocked', 'Blocked', 'Active', 'Blocked', 'Terminated', 'Terminated', 'Active', 'Terminated', 'Blocked', 'Terminated', 'Blocked', 'Blocked', 'Blocked', 'Terminated', 'Terminated', 'Terminated', 'Blocked', 'Terminated', 'Terminated', 'Blocked', 'Terminated', 'Terminated', 'Blocked', 'Active', 'Active', 'Terminated', 'Blocked', 'Blocked', 'Active', 'Terminated', 'Terminated', 'Active', 'Blocked', 'Blocked', 'Blocked', 'Terminated', 'Blocked', 'Terminated', 'Blocked', 'Blocked', 'Blocked', 'Active', 'Active', 'Terminated', 'Blocked', 'Blocked', 'Terminated', 'Blocked', 'Blocked', 'Active', 'Blocked', 'Blocked', 'Active', 'Active', 'Terminated', 'Blocked', 'Blocked', 'Terminated', 'Active', 'Terminated', 'Active', 'Blocked', 'Blocked', 'Terminated', 'Active', 'Blocked', 'Blocked', 'Active', 'Blocked', 'Blocked', 'Blocked', 'Active', 'Blocked', 'Blocked', 'Blocked', 'Terminated', 'Blocked', 'Terminated', 'Blocked', 'Terminated', 'Active', 'Terminated', 'Blocked', 'Terminated', 'Active', 'Terminated', 'Terminated', 'Terminated', 'Blocked', 'Blocked', 'Blocked', 'Terminated', 'Active', 'Terminated', 'Blocked', 'Terminated', 'Blocked', 'Terminated', 'Active', 'Blocked', 'Active', 'Active', 'Terminated', 'Blocked', 'Active', 'Blocked', 'Blocked', 'Terminated', 'Blocked', 'Terminated', 'Blocked', 'Active', 'Blocked', 'Terminated', 'Terminated', 'Terminated', 'Active', 'Active', 'Blocked', 'Blocked', 'Blocked', 'Blocked', 'Terminated', 'Blocked', 'Blocked', 'Terminated', 'Blocked', 'Blocked', 'Terminated', 'Active', 'Blocked', 'Blocked', 'Active', 'Terminated', 'Blocked', 'Blocked', 'Terminated', 'Blocked', 'Terminated', 'Active', 'Blocked', 'Terminated', 'Terminated', 'Terminated', 'Blocked', 'Active', 'Active', 'Blocked', 'Blocked', 'Blocked', 'Blocked', 'Terminated', 'Terminated', 'Blocked', 'Active', 'Active', 'Active', 'Active', 'Active', 'Active', 'Blocked', 'Active', 'Active', 'Terminated', 'Terminated', 'Terminated', 'Blocked', 'Active', 'Terminated', 'Terminated', 'Active', 'Terminated', 'Terminated', 'Blocked', 'Active', 'Active', 'Active', 'Blocked', 'Blocked', 'Blocked', 'Terminated', 'Active', 'Terminated', 'Terminated', 'Blocked', 'Blocked', 'Blocked', 'Terminated', 'Terminated', 'Active', 'Terminated', 'Blocked', 'Terminated', 'Terminated', 'Blocked', 'Terminated', 'Terminated', 'Active', 'Blocked', 'Blocked', 'Blocked', 'Active', 'Blocked', 'Terminated', 'Active', 'Active', 'Terminated', 'Active', 'Blocked', 'Active', 'Active', 'Active', 'Blocked', 'Blocked', 'Blocked', 'Active', 'Blocked', 'Blocked', 'Blocked', 'Terminated', 'Active', 'Blocked', 'Active', 'Active', 'Active', 'Terminated', 'Blocked', 'Blocked', 'Blocked', 'Active', 'Active', 'Active', 'Active', 'Blocked', 'Blocked', 'Terminated', 'Active', 'Terminated', 'Blocked', 'Blocked', 'Blocked', 'Blocked', 'Blocked', 'Terminated', 'Active', 'Terminated', 'Active', 'Active', 'Blocked', 'Blocked', 'Terminated', 'Active', 'Terminated', 'Terminated', 'Blocked', 'Active', 'Terminated', 'Blocked', 'Active', 'Active', 'Active', 'Active', 'Terminated', 'Terminated', 'Terminated', 'Active', 'Active', 'Terminated', 'Active', 'Blocked', 'Blocked', 'Terminated', 'Blocked', 'Blocked', 'Blocked', 'Active', 'Active', 'Active', 'Active', 'Terminated', 'Terminated', 'Terminated', 'Active', 'Terminated', 'Active', 'Blocked', 'Active', 'Active', 'Active', 'Active', 'Blocked', 'Terminated', 'Blocked', 'Active', 'Active', 'Blocked', 'Active', 'Blocked', 'Blocked', 'Active', 'Terminated', 'Active', 'Terminated', 'Blocked', 'Terminated', 'Active', 'Blocked', 'Blocked', 'Terminated', 'Blocked', 'Blocked', 'Blocked', 'Terminated', 'Blocked', 'Terminated', 'Terminated', 'Terminated', 'Terminated', 'Terminated', 'Active', 'Terminated', 'Blocked', 'Terminated', 'Terminated', 'Blocked', 'Terminated', 'Active', 'Active', 'Blocked', 'Terminated', 'Active', 'Terminated', 'Active', 'Active', 'Blocked', 'Active', 'Active', 'Terminated', 'Blocked', 'Blocked', 'Blocked', 'Active', 'Active', 'Terminated', 'Terminated', 'Terminated', 'Active', 'Terminated', 'Active', 'Terminated', 'Terminated', 'Terminated', 'Active', 'Blocked', 'Terminated', 'Blocked', 'Terminated', 'Blocked', 'Terminated', 'Active', 'Terminated', 'Blocked', 'Active', 'Blocked', 'Blocked', 'Blocked', 'Blocked', 'Terminated', 'Terminated', 'Terminated', 'Active', 'Active', 'Terminated', 'Terminated', 'Active', 'Blocked', 'Terminated', 'Active', 'Blocked', 'Terminated', 'Blocked', 'Terminated', 'Terminated', 'Terminated', 'Blocked', 'Active', 'Active', 'Blocked', 'Terminated', 'Terminated', 'Blocked', 'Active', 'Blocked', 'Active', 'Terminated', 'Blocked', 'Active', 'Terminated', 'Terminated', 'Active', 'Blocked', 'Active', 'Active', 'Terminated', 'Active', 'Blocked', 'Blocked', 'Blocked', 'Blocked', 'Terminated', 'Terminated', 'Active', 'Terminated', 'Blocked', 'Blocked', 'Terminated', 'Active', 'Blocked', 'Blocked', 'Terminated', 'Active', 'Terminated', 'Blocked', 'Blocked', 'Active', 'Terminated', 'Active', 'Blocked', 'Blocked', 'Active', 'Terminated', 'Terminated', 'Terminated', 'Blocked', 'Terminated', 'Terminated', 'Active', 'Terminated', 'Terminated', 'Active', 'Blocked', 'Terminated', 'Blocked', 'Blocked', 'Blocked', 'Blocked', 'Terminated', 'Active', 'Active', 'Blocked', 'Blocked', 'Active', 'Terminated', 'Terminated', 'Blocked', 'Terminated', 'Active', 'Terminated', 'Terminated', 'Active', 'Active', 'Blocked', 'Blocked', 'Active', 'Active', 'Blocked', 'Terminated', 'Terminated', 'Active', 'Blocked', 'Active', 'Terminated', 'Blocked', 'Active', 'Blocked', 'Active', 'Blocked', 'Blocked', 'Terminated', 'Blocked', 'Blocked', 'Terminated', 'Terminated', 'Terminated', 'Terminated', 'Active', 'Terminated', 'Blocked', 'Blocked', 'Blocked', 'Blocked', 'Blocked', 'Active', 'Active', 'Blocked', 'Active', 'Blocked', 'Terminated', 'Blocked', 'Active', 'Blocked', 'Active', 'Terminated', 'Terminated', 'Terminated', 'Blocked', 'Terminated', 'Blocked', 'Terminated', 'Blocked', 'Terminated', 'Blocked', 'Blocked', 'Terminated', 'Active', 'Blocked', 'Terminated', 'Blocked', 'Active', 'Active', 'Active', 'Terminated', 'Active', 'Active', 'Terminated', 'Blocked', 'Blocked', 'Terminated', 'Active', 'Terminated', 'Active', 'Active', 'Active', 'Active', 'Blocked', 'Terminated', 'Blocked', 'Blocked', 'Active', 'Active', 'Active', 'Terminated', 'Terminated', 'Active', 'Blocked', 'Terminated', 'Active', 'Active', 'Blocked', 'Terminated', 'Blocked', 'Active', 'Active', 'Active', 'Active', 'Active', 'Terminated', 'Terminated', 'Terminated', 'Terminated', 'Terminated', 'Blocked', 'Active', 'Terminated', 'Blocked', 'Active', 'Active', 'Blocked', 'Blocked', 'Terminated', 'Blocked', 'Blocked', 'Active', 'Active', 'Active', 'Terminated', 'Active', 'Terminated', 'Blocked', 'Blocked', 'Blocked', 'Active', 'Terminated', 'Blocked', 'Active', 'Blocked', 'Blocked', 'Terminated', 'Terminated', 'Terminated', 'Blocked', 'Terminated', 'Blocked', 'Active', 'Terminated', 'Terminated', 'Blocked', 'Active', 'Blocked', 'Active', 'Terminated', 'Active', 'Terminated', 'Active', 'Blocked', 'Active', 'Terminated', 'Blocked', 'Active', 'Blocked', 'Blocked', 'Terminated', 'Terminated', 'Active', 'Blocked', 'Terminated', 'Terminated', 'Terminated', 'Active', 'Active', 'Blocked', 'Blocked', 'Terminated', 'Terminated', 'Blocked', 'Active', 'Active', 'Terminated', 'Active', 'Active', 'Active', 'Active', 'Blocked', 'Blocked', 'Blocked', 'Terminated', 'Blocked', 'Active', 'Blocked', 'Active', 'Active', 'Blocked', 'Terminated', 'Blocked', 'Terminated', 'Terminated', 'Active', 'Blocked', 'Terminated', 'Active', 'Terminated', 'Blocked', 'Blocked', 'Terminated', 'Terminated', 'Terminated', 'Terminated', 'Terminated', 'Blocked', 'Blocked', 'Active', 'Terminated', 'Active', 'Blocked', 'Terminated', 'Terminated', 'Blocked', 'Blocked', 'Active', 'Terminated', 'Active', 'Active', 'Terminated', 'Terminated', 'Blocked', 'Blocked', 'Terminated', 'Terminated', 'Blocked', 'Blocked', 'Blocked', 'Terminated', 'Terminated', 'Blocked', 'Active', 'Terminated', 'Blocked', 'Active', 'Blocked', 'Active', 'Active', 'Active', 'Terminated', 'Active', 'Blocked', 'Terminated', 'Blocked', 'Blocked', 'Terminated', 'Blocked', 'Blocked', 'Terminated', 'Terminated', 'Terminated', 'Blocked', 'Terminated', 'Terminated', 'Blocked', 'Blocked', 'Terminated', 'Blocked', 'Active', 'Blocked', 'Active', 'Active', 'Blocked', 'Active', 'Active', 'Active', 'Blocked', 'Active', 'Blocked', 'Active', 'Terminated', 'Terminated', 'Blocked', 'Terminated', 'Active', 'Terminated', 'Active', 'Active', 'Blocked', 'Blocked', 'Terminated', 'Active', 'Active', 'Active', 'Active', 'Active', 'Blocked', 'Terminated', 'Active', 'Active', 'Terminated', 'Terminated', 'Active', 'Blocked', 'Active', 'Terminated', 'Terminated', 'Active', 'Blocked', 'Active', 'Active', 'Blocked', 'Blocked', 'Active', 'Terminated', 'Terminated', 'Terminated', 'Terminated', 'Blocked', 'Blocked', 'Blocked', 'Blocked', 'Blocked', 'Terminated', 'Active', 'Active', 'Blocked', 'Terminated', 'Blocked', 'Active', 'Active', 'Blocked', 'Active', 'Blocked', 'Active', 'Blocked', 'Blocked', 'Active', 'Blocked', 'Blocked', 'Active', 'Active', 'Active', 'Active', 'Terminated', 'Blocked', 'Blocked', 'Blocked', 'Active', 'Blocked', 'Terminated', 'Active', 'Terminated', 'Active', 'Active', 'Terminated', 'Active', 'Blocked', 'Terminated', 'Blocked', 'Blocked', 'Blocked', 'Active', 'Active', 'Terminated', 'Blocked', 'Active', 'Blocked', 'Terminated', 'Active', 'Terminated', 'Active', 'Blocked', 'Blocked', 'Active', 'Terminated', 'Active', 'Blocked', 'Active', 'Active', 'Terminated', 'Active', 'Active', 'Active', 'Blocked', 'Blocked', 'Active', 'Active', 'Terminated', 'Active', 'Terminated', 'Terminated', 'Terminated', 'Terminated', 'Blocked', 'Terminated', 'Active', 'Terminated', 'Terminated', 'Terminated', 'Blocked', 'Active', 'Blocked', 'Terminated', 'Blocked', 'Terminated', 'Terminated', 'Active', 'Blocked', 'Blocked', 'Blocked', 'Blocked', 'Terminated', 'Active', 'Active', 'Blocked', 'Blocked', 'Blocked', 'Blocked', 'Blocked', 'Active', 'Terminated', 'Blocked', 'Blocked', 'Active', 'Blocked', 'Terminated', 'Blocked', 'Blocked', 'Terminated', 'Blocked', 'Blocked', 'Active', 'Terminated', 'Active', 'Active', 'Blocked', 'Active', 'Terminated', 'Terminated', 'Blocked', 'Terminated', 'Terminated', 'Terminated', 'Active', 'Active', 'Terminated', 'Terminated', 'Blocked', 'Terminated', 'Blocked', 'Terminated', 'Terminated', 'Terminated', 'Terminated', 'Blocked', 'Active', 'Terminated', 'Active', 'Terminated', 'Active', 'Active', 'Blocked', 'Active', 'Active', 'Active', 'Active', 'Blocked', 'Blocked', 'Active', 'Active', 'Active', 'Active', 'Terminated', 'Blocked', 'Terminated', 'Active', 'Active', 'Active', 'Blocked', 'Terminated', 'Terminated', 'Terminated', 'Active', 'Terminated', 'Active', 'Active', 'Active', 'Blocked', 'Active', 'Terminated', 'Blocked', 'Terminated', 'Terminated', 'Active', 'Active', 'Blocked', 'Active', 'Active', 'Terminated', 'Active', 'Blocked', 'Terminated', 'Blocked', 'Active', 'Terminated', 'Terminated', 'Terminated', 'Blocked', 'Blocked', 'Terminated', 'Blocked', 'Blocked', 'Terminated', 'Blocked', 'Active', 'Blocked', 'Terminated', 'Active', 'Blocked', 'Active', 'Terminated', 'Active', 'Active', 'Terminated', 'Blocked', 'Active', 'Active', 'Active', 'Terminated', 'Blocked', 'Terminated', 'Active', 'Blocked', 'Active', 'Active', 'Blocked', 'Terminated', 'Terminated', 'Blocked', 'Blocked', 'Terminated', 'Active', 'Blocked', 'Active', 'Terminated', 'Active', 'Active', 'Blocked', 'Terminated', 'Active', 'Active', 'Active', 'Active', 'Blocked', 'Blocked', 'Blocked', 'Blocked', 'Blocked', 'Blocked', 'Terminated', 'Blocked', 'Active', 'Blocked', 'Terminated', 'Terminated', 'Terminated', 'Blocked', 'Blocked', 'Active', 'Blocked', 'Blocked', 'Active', 'Active', 'Terminated', 'Terminated', 'Terminated', 'Active', 'Active', 'Terminated', 'Terminated', 'Terminated', 'Terminated', 'Blocked']\n"
     ]
    }
   ],
   "source": [
    "random_status=[]\n",
    "\n",
    "for i in range(1110):\n",
    "    random_status.append(random.choice(statusi))\n",
    "    \n",
    "print(random_status)"
   ]
  },
  {
   "cell_type": "markdown",
   "id": "b80d099e",
   "metadata": {},
   "source": [
    "#### User data"
   ]
  },
  {
   "cell_type": "code",
   "execution_count": 58,
   "id": "6cbd28e4",
   "metadata": {},
   "outputs": [],
   "source": [
    "user_id = list(range(2451, 3561))"
   ]
  },
  {
   "cell_type": "code",
   "execution_count": 59,
   "id": "5509cc39",
   "metadata": {},
   "outputs": [
    {
     "data": {
      "text/plain": [
       "1110"
      ]
     },
     "execution_count": 59,
     "metadata": {},
     "output_type": "execute_result"
    }
   ],
   "source": [
    "len(user_id)"
   ]
  },
  {
   "cell_type": "code",
   "execution_count": 67,
   "id": "418b4daa",
   "metadata": {},
   "outputs": [],
   "source": [
    "data = {'UserID' : user_id,\n",
    "        'FirstName' : First,\n",
    "        'LastName' : Last,\n",
    "        'BirthDate' : random_dates,\n",
    "        'UserStatus' : random_status}"
   ]
  },
  {
   "cell_type": "code",
   "execution_count": 68,
   "id": "77800366",
   "metadata": {},
   "outputs": [],
   "source": [
    "user_df = pd.DataFrame(data)"
   ]
  },
  {
   "cell_type": "code",
   "execution_count": 70,
   "id": "ed271ec3",
   "metadata": {},
   "outputs": [
    {
     "data": {
      "text/html": [
       "<div>\n",
       "<style scoped>\n",
       "    .dataframe tbody tr th:only-of-type {\n",
       "        vertical-align: middle;\n",
       "    }\n",
       "\n",
       "    .dataframe tbody tr th {\n",
       "        vertical-align: top;\n",
       "    }\n",
       "\n",
       "    .dataframe thead th {\n",
       "        text-align: right;\n",
       "    }\n",
       "</style>\n",
       "<table border=\"1\" class=\"dataframe\">\n",
       "  <thead>\n",
       "    <tr style=\"text-align: right;\">\n",
       "      <th></th>\n",
       "      <th>UserID</th>\n",
       "      <th>FirstName</th>\n",
       "      <th>LastName</th>\n",
       "      <th>BirthDate</th>\n",
       "      <th>UserStatus</th>\n",
       "    </tr>\n",
       "  </thead>\n",
       "  <tbody>\n",
       "    <tr>\n",
       "      <th>0</th>\n",
       "      <td>2451</td>\n",
       "      <td>Edward</td>\n",
       "      <td>Miller</td>\n",
       "      <td>2002-9-8</td>\n",
       "      <td>Terminated</td>\n",
       "    </tr>\n",
       "    <tr>\n",
       "      <th>1</th>\n",
       "      <td>2452</td>\n",
       "      <td>Donald</td>\n",
       "      <td>Collins</td>\n",
       "      <td>2009-4-8</td>\n",
       "      <td>Active</td>\n",
       "    </tr>\n",
       "    <tr>\n",
       "      <th>2</th>\n",
       "      <td>2453</td>\n",
       "      <td>Teresa</td>\n",
       "      <td>Wright</td>\n",
       "      <td>2007-10-26</td>\n",
       "      <td>Blocked</td>\n",
       "    </tr>\n",
       "    <tr>\n",
       "      <th>3</th>\n",
       "      <td>2454</td>\n",
       "      <td>Matthew</td>\n",
       "      <td>Flores</td>\n",
       "      <td>2006-6-25</td>\n",
       "      <td>Active</td>\n",
       "    </tr>\n",
       "    <tr>\n",
       "      <th>4</th>\n",
       "      <td>2455</td>\n",
       "      <td>Gerald</td>\n",
       "      <td>Rodriguez</td>\n",
       "      <td>1995-5-18</td>\n",
       "      <td>Active</td>\n",
       "    </tr>\n",
       "  </tbody>\n",
       "</table>\n",
       "</div>"
      ],
      "text/plain": [
       "   UserID FirstName   LastName   BirthDate  UserStatus\n",
       "0    2451    Edward     Miller    2002-9-8  Terminated\n",
       "1    2452    Donald    Collins    2009-4-8      Active\n",
       "2    2453    Teresa     Wright  2007-10-26     Blocked\n",
       "3    2454   Matthew     Flores   2006-6-25      Active\n",
       "4    2455    Gerald  Rodriguez   1995-5-18      Active"
      ]
     },
     "execution_count": 70,
     "metadata": {},
     "output_type": "execute_result"
    }
   ],
   "source": [
    "user_df.head()"
   ]
  },
  {
   "cell_type": "code",
   "execution_count": 71,
   "id": "b94b4f5a",
   "metadata": {},
   "outputs": [],
   "source": [
    "user_df.to_csv('User.csv', index = False)"
   ]
  },
  {
   "cell_type": "code",
   "execution_count": null,
   "id": "6f106bfe",
   "metadata": {},
   "outputs": [],
   "source": []
  }
 ],
 "metadata": {
  "kernelspec": {
   "display_name": "Python 3 (ipykernel)",
   "language": "python",
   "name": "python3"
  },
  "language_info": {
   "codemirror_mode": {
    "name": "ipython",
    "version": 3
   },
   "file_extension": ".py",
   "mimetype": "text/x-python",
   "name": "python",
   "nbconvert_exporter": "python",
   "pygments_lexer": "ipython3",
   "version": "3.8.18"
  }
 },
 "nbformat": 4,
 "nbformat_minor": 5
}
