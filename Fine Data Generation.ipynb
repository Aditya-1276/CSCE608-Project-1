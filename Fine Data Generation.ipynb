{
 "cells": [
  {
   "cell_type": "code",
   "execution_count": 1,
   "id": "c4aa08ab",
   "metadata": {},
   "outputs": [],
   "source": [
    "import random\n",
    "import numpy as np\n",
    "import pandas as pd"
   ]
  },
  {
   "cell_type": "code",
   "execution_count": 2,
   "id": "68d4db02",
   "metadata": {},
   "outputs": [],
   "source": [
    "fine = pd.read_csv('Fine.csv')"
   ]
  },
  {
   "cell_type": "code",
   "execution_count": 3,
   "id": "35075efc",
   "metadata": {},
   "outputs": [
    {
     "data": {
      "text/html": [
       "<div>\n",
       "<style scoped>\n",
       "    .dataframe tbody tr th:only-of-type {\n",
       "        vertical-align: middle;\n",
       "    }\n",
       "\n",
       "    .dataframe tbody tr th {\n",
       "        vertical-align: top;\n",
       "    }\n",
       "\n",
       "    .dataframe thead th {\n",
       "        text-align: right;\n",
       "    }\n",
       "</style>\n",
       "<table border=\"1\" class=\"dataframe\">\n",
       "  <thead>\n",
       "    <tr style=\"text-align: right;\">\n",
       "      <th></th>\n",
       "      <th>FineID</th>\n",
       "      <th>UserID</th>\n",
       "    </tr>\n",
       "  </thead>\n",
       "  <tbody>\n",
       "    <tr>\n",
       "      <th>0</th>\n",
       "      <td>112041</td>\n",
       "      <td>2452</td>\n",
       "    </tr>\n",
       "    <tr>\n",
       "      <th>1</th>\n",
       "      <td>112042</td>\n",
       "      <td>2453</td>\n",
       "    </tr>\n",
       "    <tr>\n",
       "      <th>2</th>\n",
       "      <td>112043</td>\n",
       "      <td>2454</td>\n",
       "    </tr>\n",
       "    <tr>\n",
       "      <th>3</th>\n",
       "      <td>112044</td>\n",
       "      <td>2455</td>\n",
       "    </tr>\n",
       "    <tr>\n",
       "      <th>4</th>\n",
       "      <td>112045</td>\n",
       "      <td>2456</td>\n",
       "    </tr>\n",
       "  </tbody>\n",
       "</table>\n",
       "</div>"
      ],
      "text/plain": [
       "   FineID  UserID\n",
       "0  112041    2452\n",
       "1  112042    2453\n",
       "2  112043    2454\n",
       "3  112044    2455\n",
       "4  112045    2456"
      ]
     },
     "execution_count": 3,
     "metadata": {},
     "output_type": "execute_result"
    }
   ],
   "source": [
    "fine.head()"
   ]
  },
  {
   "cell_type": "code",
   "execution_count": 5,
   "id": "1673225f",
   "metadata": {},
   "outputs": [
    {
     "data": {
      "text/plain": [
       "(230, 2)"
      ]
     },
     "execution_count": 5,
     "metadata": {},
     "output_type": "execute_result"
    }
   ],
   "source": [
    "fine.shape"
   ]
  },
  {
   "cell_type": "markdown",
   "id": "d528f373",
   "metadata": {},
   "source": [
    "#### Amounts"
   ]
  },
  {
   "cell_type": "code",
   "execution_count": 6,
   "id": "081cf7c5",
   "metadata": {},
   "outputs": [],
   "source": [
    "amounts = []\n",
    "\n",
    "for i in range(230):\n",
    "    amounts.append(random.choice(list(range(25,500))))"
   ]
  },
  {
   "cell_type": "markdown",
   "id": "44b89277",
   "metadata": {},
   "source": [
    "#### Dates"
   ]
  },
  {
   "cell_type": "code",
   "execution_count": 8,
   "id": "1f092c41",
   "metadata": {},
   "outputs": [],
   "source": [
    "days = map(str, list(range(1,32)))\n",
    "days = (list(days))\n",
    "months = map(str, list(range(1,12)))\n",
    "months = list(months)\n",
    "years = map(str, list(range(1995, 2010)))\n",
    "years = list(years)"
   ]
  },
  {
   "cell_type": "code",
   "execution_count": 11,
   "id": "daa77b70",
   "metadata": {},
   "outputs": [],
   "source": [
    "issued=[]\n",
    "\n",
    "\n",
    "for i in range(230):\n",
    "    issued.append(random.choice(years)+\"-\"+random.choice(months)+\"-\"+random.choice(days))\n",
    "    "
   ]
  },
  {
   "cell_type": "markdown",
   "id": "5b654b1a",
   "metadata": {},
   "source": [
    "#### Payment Status"
   ]
  },
  {
   "cell_type": "code",
   "execution_count": 12,
   "id": "56353d3b",
   "metadata": {},
   "outputs": [],
   "source": [
    "Statusi = ['Paid','Not Paid']"
   ]
  },
  {
   "cell_type": "code",
   "execution_count": 13,
   "id": "69553d70",
   "metadata": {},
   "outputs": [],
   "source": [
    "statuses = []\n",
    "\n",
    "for i in range(230):\n",
    "    statuses.append(random.choice(Statusi))"
   ]
  },
  {
   "cell_type": "markdown",
   "id": "1d9b3de2",
   "metadata": {},
   "source": [
    "#### Compile data and export"
   ]
  },
  {
   "cell_type": "code",
   "execution_count": 15,
   "id": "a4c4d2b4",
   "metadata": {},
   "outputs": [],
   "source": [
    "fine['Amount'] = amounts\n",
    "fine['IssuedDate'] = issued\n",
    "fine['PaymentStatus'] = statuses"
   ]
  },
  {
   "cell_type": "code",
   "execution_count": 16,
   "id": "3944a693",
   "metadata": {},
   "outputs": [
    {
     "data": {
      "text/html": [
       "<div>\n",
       "<style scoped>\n",
       "    .dataframe tbody tr th:only-of-type {\n",
       "        vertical-align: middle;\n",
       "    }\n",
       "\n",
       "    .dataframe tbody tr th {\n",
       "        vertical-align: top;\n",
       "    }\n",
       "\n",
       "    .dataframe thead th {\n",
       "        text-align: right;\n",
       "    }\n",
       "</style>\n",
       "<table border=\"1\" class=\"dataframe\">\n",
       "  <thead>\n",
       "    <tr style=\"text-align: right;\">\n",
       "      <th></th>\n",
       "      <th>FineID</th>\n",
       "      <th>UserID</th>\n",
       "      <th>Amount</th>\n",
       "      <th>IssuedDate</th>\n",
       "      <th>PaymentStatus</th>\n",
       "    </tr>\n",
       "  </thead>\n",
       "  <tbody>\n",
       "    <tr>\n",
       "      <th>0</th>\n",
       "      <td>112041</td>\n",
       "      <td>2452</td>\n",
       "      <td>289</td>\n",
       "      <td>1998-4-7</td>\n",
       "      <td>Paid</td>\n",
       "    </tr>\n",
       "    <tr>\n",
       "      <th>1</th>\n",
       "      <td>112042</td>\n",
       "      <td>2453</td>\n",
       "      <td>304</td>\n",
       "      <td>1996-8-25</td>\n",
       "      <td>Paid</td>\n",
       "    </tr>\n",
       "    <tr>\n",
       "      <th>2</th>\n",
       "      <td>112043</td>\n",
       "      <td>2454</td>\n",
       "      <td>39</td>\n",
       "      <td>2001-7-22</td>\n",
       "      <td>Paid</td>\n",
       "    </tr>\n",
       "    <tr>\n",
       "      <th>3</th>\n",
       "      <td>112044</td>\n",
       "      <td>2455</td>\n",
       "      <td>125</td>\n",
       "      <td>2005-5-17</td>\n",
       "      <td>Paid</td>\n",
       "    </tr>\n",
       "    <tr>\n",
       "      <th>4</th>\n",
       "      <td>112045</td>\n",
       "      <td>2456</td>\n",
       "      <td>340</td>\n",
       "      <td>2005-6-4</td>\n",
       "      <td>Paid</td>\n",
       "    </tr>\n",
       "  </tbody>\n",
       "</table>\n",
       "</div>"
      ],
      "text/plain": [
       "   FineID  UserID  Amount IssuedDate PaymentStatus\n",
       "0  112041    2452     289   1998-4-7          Paid\n",
       "1  112042    2453     304  1996-8-25          Paid\n",
       "2  112043    2454      39  2001-7-22          Paid\n",
       "3  112044    2455     125  2005-5-17          Paid\n",
       "4  112045    2456     340   2005-6-4          Paid"
      ]
     },
     "execution_count": 16,
     "metadata": {},
     "output_type": "execute_result"
    }
   ],
   "source": [
    "fine.head()"
   ]
  },
  {
   "cell_type": "code",
   "execution_count": 17,
   "id": "6d69e793",
   "metadata": {},
   "outputs": [],
   "source": [
    "fine.to_csv('Fine.csv', index = False)"
   ]
  },
  {
   "cell_type": "code",
   "execution_count": null,
   "id": "fc94284d",
   "metadata": {},
   "outputs": [],
   "source": []
  }
 ],
 "metadata": {
  "kernelspec": {
   "display_name": "Python 3 (ipykernel)",
   "language": "python",
   "name": "python3"
  },
  "language_info": {
   "codemirror_mode": {
    "name": "ipython",
    "version": 3
   },
   "file_extension": ".py",
   "mimetype": "text/x-python",
   "name": "python",
   "nbconvert_exporter": "python",
   "pygments_lexer": "ipython3",
   "version": "3.8.18"
  }
 },
 "nbformat": 4,
 "nbformat_minor": 5
}
